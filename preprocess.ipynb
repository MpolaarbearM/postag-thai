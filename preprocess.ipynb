{
 "cells": [
  {
   "cell_type": "code",
   "execution_count": 2,
   "metadata": {},
   "outputs": [],
   "source": [
    "def readfile(path):\n",
    "    _data = []\n",
    "    with open(path,'r',encoding=\"utf-8-sig\") as f:\n",
    "        _temp = [i for i in f.read().split(\"\\n\\n\") if i != '']\n",
    "    for j in _temp:\n",
    "        _temp_data = []\n",
    "        bad_data = False\n",
    "        for i in j.split(\"\\n\"):\n",
    "            if i.startswith('#') == False and not bad_data:\n",
    "                _t = i.strip().split(\"\\t\")\n",
    "                if _t[1]!=\"$$\":\n",
    "                    if _t[3]==\"N\":\n",
    "                        _temp_data=[]\n",
    "                        bad_data=True\n",
    "                    else:\n",
    "                        _temp_data.append((_t[1],_t[3]))\n",
    "        if _temp_data!=[]:\n",
    "            _data.append(_temp_data)\n",
    "    return _data\n",
    "\n",
    "def readfile2(path):\n",
    "    _data = []\n",
    "    with open(path,'r',encoding=\"utf-8-sig\") as f:\n",
    "        _temp = [i for i in f.read().split(\"\\n\\n\") if i != '']\n",
    "    for j in _temp:\n",
    "        _temp_data = []\n",
    "        bad_data = False\n",
    "        for i in j.split(\"\\n\"):\n",
    "            if i.startswith('#') == False and not bad_data:\n",
    "                _t = i.strip().split(\"\\t\")\n",
    "                if _t[1]!=\"$$\":\n",
    "                    if _t[3]==\"N\":\n",
    "                        _temp_data=[]\n",
    "                        bad_data=True\n",
    "                    else:\n",
    "                        _temp_data.append((_t[1],_t[4]))\n",
    "        if _temp_data!=[]:\n",
    "            _data.append(_temp_data)\n",
    "    return _data"
   ]
  },
  {
   "cell_type": "code",
   "execution_count": 3,
   "metadata": {},
   "outputs": [],
   "source": [
    "train_data = []"
   ]
  },
  {
   "cell_type": "code",
   "execution_count": 5,
   "metadata": {},
   "outputs": [
    {
     "name": "stdout",
     "output_type": "stream",
     "text": [
      "['section_14.conll', 'section_18.conll', 'section_23.conll', 'section_02.conll', 'section_15.conll', 'section_19.conll', 'section_22.conll', 'section_03.conll', 'section_16.conll', 'section_00.conll', 'section_21.conll', 'section_17.conll', 'section_01.conll', 'section_20.conll', 'section_10.conll', 'section_06.conll', 'section_11.conll', 'section_07.conll', 'section_12.conll', 'section_08.conll', 'section_04.conll', 'section_13.conll', 'section_09.conll', 'section_05.conll', 'section_24.conll']\n"
     ]
    }
   ],
   "source": [
    "import os\n",
    "import pandas as pd\n",
    "\n",
    "path = \"/home/taeta181/Desktop/postag/postag-thai/thai10\"\n",
    "\n",
    "train_files = os.listdir(path)\n",
    "print(train_files)"
   ]
  },
  {
   "cell_type": "code",
   "execution_count": 7,
   "metadata": {},
   "outputs": [],
   "source": [
    "for file in train_files:\n",
    "    train_data.extend(readfile(os.path.join(path,file)))"
   ]
  },
  {
   "cell_type": "code",
   "execution_count": 8,
   "metadata": {},
   "outputs": [
    {
     "data": {
      "text/plain": [
       "[('ก่อน', 'CC'),\n",
       " ('ที่', 'CC'),\n",
       " ('เครื่อง', 'NN'),\n",
       " ('บิน', 'VV'),\n",
       " ('จะ', 'AX'),\n",
       " ('สูญหาย', 'VV'),\n",
       " ('ไป', 'AV')]"
      ]
     },
     "execution_count": 8,
     "metadata": {},
     "output_type": "execute_result"
    }
   ],
   "source": [
    "train_data[5]\n"
   ]
  },
  {
   "cell_type": "code",
   "execution_count": 30,
   "metadata": {},
   "outputs": [
    {
     "name": "stdout",
     "output_type": "stream",
     "text": [
      "[('และ', 'CC'), ('หา', 'VV'), ('ยาก', 'VV'), ('ที่', 'CC'), ('ฟ้า', 'NN'), ('ผ่า', 'VV'), ('จะ', 'AX')]\n"
     ]
    }
   ],
   "source": [
    "print(train_data[0])"
   ]
  },
  {
   "cell_type": "code",
   "execution_count": 9,
   "metadata": {},
   "outputs": [
    {
     "name": "stdout",
     "output_type": "stream",
     "text": [
      "{'NG', 'IJ', 'NN', 'AV', 'AX', 'PR', 'FX', 'CC', 'AJ', 'CL', 'NU', 'VV', 'PS'}\n"
     ]
    }
   ],
   "source": [
    "tag = set()\n",
    "\n",
    "for id in range(len(train_data)):\n",
    "    #print(train_data[id][0][1])\n",
    "    tag.add(train_data[id][0][1])\n",
    "\n",
    "print(tag)"
   ]
  },
  {
   "cell_type": "code",
   "execution_count": 10,
   "metadata": {},
   "outputs": [],
   "source": [
    "train_data_2 = []\n",
    "train_data_2.extend(readfile2(\"th_pud-ud-test.conllu\"))"
   ]
  },
  {
   "cell_type": "code",
   "execution_count": 11,
   "metadata": {},
   "outputs": [
    {
     "name": "stdout",
     "output_type": "stream",
     "text": [
      "1000\n",
      "[('สิ่ง', 'NN'), ('ที่', 'WDT'), ('เธอ', 'PRP'), ('กำลัง', 'AS'), ('พูด', 'VV'), ('และ', 'CC'), ('สิ่ง', 'NN'), ('ที่', 'WDT'), ('เธอ', 'PRP'), ('กำลัง', 'AS'), ('ทำ', 'VV'), ('มัน', 'PRP'), ('—', '-'), ('ที่', 'PRP'), ('จริง', 'JJ'), ('มัน', 'PRP'), ('ไม่', 'NEG'), ('น่าเชื่อ', 'VV'), ('เลย', 'RB')]\n"
     ]
    }
   ],
   "source": [
    "print(len(train_data_2))\n",
    "print(train_data_2[5])\n"
   ]
  },
  {
   "cell_type": "code",
   "execution_count": 13,
   "metadata": {},
   "outputs": [
    {
     "name": "stdout",
     "output_type": "stream",
     "text": [
      "{'CD', '``', 'NN', 'PRP', 'MD', 'VC', 'IN', 'RB', 'JJ', 'PRD', 'DT', 'AS', 'NNB', 'WP', 'CC', 'NNP', 'NEG', 'VV'}\n"
     ]
    }
   ],
   "source": [
    "tag2 = set()\n",
    "\n",
    "for id in range(len(train_data_2)):\n",
    "    #print(train_data[id][0][1])\n",
    "    tag2.add(train_data_2[id][0][1])\n",
    "\n",
    "print(tag2)"
   ]
  },
  {
   "cell_type": "code",
   "execution_count": 38,
   "metadata": {},
   "outputs": [
    {
     "data": {
      "text/html": [
       "<div>\n",
       "<style scoped>\n",
       "    .dataframe tbody tr th:only-of-type {\n",
       "        vertical-align: middle;\n",
       "    }\n",
       "\n",
       "    .dataframe tbody tr th {\n",
       "        vertical-align: top;\n",
       "    }\n",
       "\n",
       "    .dataframe thead th {\n",
       "        text-align: right;\n",
       "    }\n",
       "</style>\n",
       "<table border=\"1\" class=\"dataframe\">\n",
       "  <thead>\n",
       "    <tr style=\"text-align: right;\">\n",
       "      <th></th>\n",
       "      <th>id</th>\n",
       "      <th>pos_tag</th>\n",
       "      <th>token</th>\n",
       "    </tr>\n",
       "  </thead>\n",
       "  <tbody>\n",
       "  </tbody>\n",
       "</table>\n",
       "</div>"
      ],
      "text/plain": [
       "Empty DataFrame\n",
       "Columns: [id, pos_tag, token]\n",
       "Index: []"
      ]
     },
     "execution_count": 38,
     "metadata": {},
     "output_type": "execute_result"
    }
   ],
   "source": [
    "df = pd.DataFrame(columns = ['id','pos_tag','token'])\n",
    "df"
   ]
  },
  {
   "cell_type": "code",
   "execution_count": 43,
   "metadata": {},
   "outputs": [],
   "source": [
    "from tqdm.auto import trange, tqdm\n",
    "\n",
    "def save_pos_data (data, filename):\n",
    "    data_collect = pd.DataFrame(columns = ['id','pos_tag','token'])\n",
    "    for i in tqdm(range(len(data))):\n",
    "        pos_temp = []\n",
    "        token_temp = []\n",
    "        for j in range(len(data[i])):\n",
    "            pos_temp.append(data[i][j][1])\n",
    "            token_temp.append(data[i][j][0])\n",
    "        \n",
    "        data_collect.loc[i] = [i,pos_temp,token_temp]\n",
    "\n",
    "    data_collect.to_csv(filename, index=False)"
   ]
  },
  {
   "cell_type": "code",
   "execution_count": 39,
   "metadata": {},
   "outputs": [
    {
     "name": "stderr",
     "output_type": "stream",
     "text": [
      "100%|██████████| 130560/130560 [10:22<00:00, 209.84it/s]\n"
     ]
    },
    {
     "data": {
      "text/html": [
       "<div>\n",
       "<style scoped>\n",
       "    .dataframe tbody tr th:only-of-type {\n",
       "        vertical-align: middle;\n",
       "    }\n",
       "\n",
       "    .dataframe tbody tr th {\n",
       "        vertical-align: top;\n",
       "    }\n",
       "\n",
       "    .dataframe thead th {\n",
       "        text-align: right;\n",
       "    }\n",
       "</style>\n",
       "<table border=\"1\" class=\"dataframe\">\n",
       "  <thead>\n",
       "    <tr style=\"text-align: right;\">\n",
       "      <th></th>\n",
       "      <th>id</th>\n",
       "      <th>pos_tag</th>\n",
       "      <th>token</th>\n",
       "    </tr>\n",
       "  </thead>\n",
       "  <tbody>\n",
       "    <tr>\n",
       "      <th>0</th>\n",
       "      <td>0</td>\n",
       "      <td>[CC, VV, VV, CC, NN, VV, AX]</td>\n",
       "      <td>[และ, หา, ยาก, ที่, ฟ้า, ผ่า, จะ]</td>\n",
       "    </tr>\n",
       "    <tr>\n",
       "      <th>1</th>\n",
       "      <td>1</td>\n",
       "      <td>[CC, NN, VV, VV]</td>\n",
       "      <td>[ทำให้, เครื่อง, บิน, ตก]</td>\n",
       "    </tr>\n",
       "    <tr>\n",
       "      <th>2</th>\n",
       "      <td>2</td>\n",
       "      <td>[CC, NN, NN, VV]</td>\n",
       "      <td>[ทั้ง, สภาพ, อากาศ, แปรปรวน]</td>\n",
       "    </tr>\n",
       "    <tr>\n",
       "      <th>3</th>\n",
       "      <td>3</td>\n",
       "      <td>[VV, NN, PS, NN, FX, VV]</td>\n",
       "      <td>[มี, ปัญหา, กับ, ระบบ, ความ, ดัน]</td>\n",
       "    </tr>\n",
       "    <tr>\n",
       "      <th>4</th>\n",
       "      <td>4</td>\n",
       "      <td>[CC, NN, NN, AJ, PS, NN, VV]</td>\n",
       "      <td>[และ, ระบบ, ไฟฟ้า, ต่าง, บน, เครื่อง, บิน]</td>\n",
       "    </tr>\n",
       "    <tr>\n",
       "      <th>...</th>\n",
       "      <td>...</td>\n",
       "      <td>...</td>\n",
       "      <td>...</td>\n",
       "    </tr>\n",
       "    <tr>\n",
       "      <th>130555</th>\n",
       "      <td>130555</td>\n",
       "      <td>[NN, NN, VV, AV, CC]</td>\n",
       "      <td>[นาย, ไพโรจน์, กล่าว, ด้วย, ว่า]</td>\n",
       "    </tr>\n",
       "    <tr>\n",
       "      <th>130556</th>\n",
       "      <td>130556</td>\n",
       "      <td>[NN, NN, AX, VV, FX]</td>\n",
       "      <td>[คณะ, กรรมาธิการฯ, จะ, เชิญ, ผู้]</td>\n",
       "    </tr>\n",
       "    <tr>\n",
       "      <th>130557</th>\n",
       "      <td>130557</td>\n",
       "      <td>[NN, NN, NN, VV, CC]</td>\n",
       "      <td>[ด้าน, นาย, ฐนโรจน์, กล่าว, ว่า]</td>\n",
       "    </tr>\n",
       "    <tr>\n",
       "      <th>130558</th>\n",
       "      <td>130558</td>\n",
       "      <td>[PR, PS, NN, NN, PS, NN, NG, VV, VV, NN, AJ]</td>\n",
       "      <td>[ตน, ใน, ฐานะ, ส.ส., ของ, รัฐบาล, ไม่, เห็นด้ว...</td>\n",
       "    </tr>\n",
       "    <tr>\n",
       "      <th>130559</th>\n",
       "      <td>130559</td>\n",
       "      <td>[CC, PR, VV, VV, NN, VV, VV, FX, NG, VV]</td>\n",
       "      <td>[เพียงแต่, ตน, ต้องการ, ลบ, ข้อ, ครหา, เกี่ยวก...</td>\n",
       "    </tr>\n",
       "  </tbody>\n",
       "</table>\n",
       "<p>130560 rows × 3 columns</p>\n",
       "</div>"
      ],
      "text/plain": [
       "            id                                       pos_tag  \\\n",
       "0            0                  [CC, VV, VV, CC, NN, VV, AX]   \n",
       "1            1                              [CC, NN, VV, VV]   \n",
       "2            2                              [CC, NN, NN, VV]   \n",
       "3            3                      [VV, NN, PS, NN, FX, VV]   \n",
       "4            4                  [CC, NN, NN, AJ, PS, NN, VV]   \n",
       "...        ...                                           ...   \n",
       "130555  130555                          [NN, NN, VV, AV, CC]   \n",
       "130556  130556                          [NN, NN, AX, VV, FX]   \n",
       "130557  130557                          [NN, NN, NN, VV, CC]   \n",
       "130558  130558  [PR, PS, NN, NN, PS, NN, NG, VV, VV, NN, AJ]   \n",
       "130559  130559      [CC, PR, VV, VV, NN, VV, VV, FX, NG, VV]   \n",
       "\n",
       "                                                    token  \n",
       "0                       [และ, หา, ยาก, ที่, ฟ้า, ผ่า, จะ]  \n",
       "1                               [ทำให้, เครื่อง, บิน, ตก]  \n",
       "2                            [ทั้ง, สภาพ, อากาศ, แปรปรวน]  \n",
       "3                       [มี, ปัญหา, กับ, ระบบ, ความ, ดัน]  \n",
       "4              [และ, ระบบ, ไฟฟ้า, ต่าง, บน, เครื่อง, บิน]  \n",
       "...                                                   ...  \n",
       "130555                   [นาย, ไพโรจน์, กล่าว, ด้วย, ว่า]  \n",
       "130556                  [คณะ, กรรมาธิการฯ, จะ, เชิญ, ผู้]  \n",
       "130557                   [ด้าน, นาย, ฐนโรจน์, กล่าว, ว่า]  \n",
       "130558  [ตน, ใน, ฐานะ, ส.ส., ของ, รัฐบาล, ไม่, เห็นด้ว...  \n",
       "130559  [เพียงแต่, ตน, ต้องการ, ลบ, ข้อ, ครหา, เกี่ยวก...  \n",
       "\n",
       "[130560 rows x 3 columns]"
      ]
     },
     "execution_count": 39,
     "metadata": {},
     "output_type": "execute_result"
    }
   ],
   "source": [
    "\n",
    "for i in tqdm(range(len(train_data))):\n",
    "    pos_temp = []\n",
    "    token_temp = []\n",
    "    for j in range(len(train_data[i])):\n",
    "        pos_temp.append(train_data[i][j][1])\n",
    "        token_temp.append(train_data[i][j][0])\n",
    "      \n",
    "    df.loc[i] = [i,pos_temp,token_temp]\n",
    "\n",
    "df"
   ]
  },
  {
   "cell_type": "code",
   "execution_count": 40,
   "metadata": {},
   "outputs": [],
   "source": [
    "df.to_csv('thai10_dataset.csv', index=False)"
   ]
  },
  {
   "cell_type": "code",
   "execution_count": 44,
   "metadata": {},
   "outputs": [
    {
     "name": "stderr",
     "output_type": "stream",
     "text": [
      "100%|██████████| 1000/1000 [00:01<00:00, 810.10it/s]\n"
     ]
    }
   ],
   "source": [
    "save_pos_data(train_data_2,\"th_pud_data\")"
   ]
  }
 ],
 "metadata": {
  "kernelspec": {
   "display_name": ".venv",
   "language": "python",
   "name": "python3"
  },
  "language_info": {
   "codemirror_mode": {
    "name": "ipython",
    "version": 3
   },
   "file_extension": ".py",
   "mimetype": "text/x-python",
   "name": "python",
   "nbconvert_exporter": "python",
   "pygments_lexer": "ipython3",
   "version": "3.8.10"
  },
  "orig_nbformat": 4
 },
 "nbformat": 4,
 "nbformat_minor": 2
}
